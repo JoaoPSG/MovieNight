{
 "cells": [
  {
   "cell_type": "code",
   "execution_count": 2,
   "metadata": {},
   "outputs": [],
   "source": [
    "import numpy as np\n",
    "import pandas as pd\n",
    "import imdb\n",
    "import requests\n",
    "import json"
   ]
  },
  {
   "cell_type": "markdown",
   "metadata": {},
   "source": [
    "## Consulta Local"
   ]
  },
  {
   "cell_type": "code",
   "execution_count": 7,
   "metadata": {},
   "outputs": [
    {
     "name": "stderr",
     "output_type": "stream",
     "text": [
      "C:\\Users\\jpedr\\anaconda3\\lib\\site-packages\\IPython\\core\\interactiveshell.py:3146: DtypeWarning: Columns (7) have mixed types.Specify dtype option on import or set low_memory=False.\n",
      "  has_raised = await self.run_ast_nodes(code_ast.body, cell_name,\n"
     ]
    }
   ],
   "source": [
    "df = pd.read_csv(\"data.csv\", sep='\\t')"
   ]
  },
  {
   "cell_type": "code",
   "execution_count": 9,
   "metadata": {},
   "outputs": [
    {
     "data": {
      "text/html": [
       "<div>\n",
       "<style scoped>\n",
       "    .dataframe tbody tr th:only-of-type {\n",
       "        vertical-align: middle;\n",
       "    }\n",
       "\n",
       "    .dataframe tbody tr th {\n",
       "        vertical-align: top;\n",
       "    }\n",
       "\n",
       "    .dataframe thead th {\n",
       "        text-align: right;\n",
       "    }\n",
       "</style>\n",
       "<table border=\"1\" class=\"dataframe\">\n",
       "  <thead>\n",
       "    <tr style=\"text-align: right;\">\n",
       "      <th></th>\n",
       "      <th>titleId</th>\n",
       "      <th>ordering</th>\n",
       "      <th>title</th>\n",
       "      <th>region</th>\n",
       "      <th>language</th>\n",
       "      <th>types</th>\n",
       "      <th>attributes</th>\n",
       "      <th>isOriginalTitle</th>\n",
       "    </tr>\n",
       "  </thead>\n",
       "  <tbody>\n",
       "    <tr>\n",
       "      <th>12733835</th>\n",
       "      <td>tt14368728</td>\n",
       "      <td>1</td>\n",
       "      <td>Intervenção, É Proibido Morrer</td>\n",
       "      <td>BR</td>\n",
       "      <td>\\N</td>\n",
       "      <td>imdbDisplay</td>\n",
       "      <td>\\N</td>\n",
       "      <td>0</td>\n",
       "    </tr>\n",
       "    <tr>\n",
       "      <th>12733836</th>\n",
       "      <td>tt14368728</td>\n",
       "      <td>2</td>\n",
       "      <td>Intervenção, É Proibido Morrer</td>\n",
       "      <td>\\N</td>\n",
       "      <td>\\N</td>\n",
       "      <td>original</td>\n",
       "      <td>\\N</td>\n",
       "      <td>1</td>\n",
       "    </tr>\n",
       "  </tbody>\n",
       "</table>\n",
       "</div>"
      ],
      "text/plain": [
       "             titleId  ordering                           title region  \\\n",
       "12733835  tt14368728         1  Intervenção, É Proibido Morrer     BR   \n",
       "12733836  tt14368728         2  Intervenção, É Proibido Morrer     \\N   \n",
       "\n",
       "         language        types attributes isOriginalTitle  \n",
       "12733835       \\N  imdbDisplay         \\N               0  \n",
       "12733836       \\N     original         \\N               1  "
      ]
     },
     "execution_count": 9,
     "metadata": {},
     "output_type": "execute_result"
    }
   ],
   "source": [
    "df[df['title'] == 'Intervenção, É Proibido Morrer']"
   ]
  },
  {
   "cell_type": "markdown",
   "metadata": {},
   "source": [
    "## Consulta via API"
   ]
  },
  {
   "cell_type": "code",
   "execution_count": null,
   "metadata": {},
   "outputs": [],
   "source": [
    "# Lista de filmes de uma pesquisa\n",
    "# movie = ia.search_movie(searched_movie)"
   ]
  },
  {
   "cell_type": "code",
   "execution_count": 46,
   "metadata": {},
   "outputs": [],
   "source": [
    "# Filme Pesquisado\n",
    "searched_movie = 'Top Gun'"
   ]
  },
  {
   "cell_type": "code",
   "execution_count": 47,
   "metadata": {},
   "outputs": [],
   "source": [
    "def get_imdb(searched_movie):\n",
    "    ia = imdb.IMDb()\n",
    "    movie = ia.search_movie(searched_movie)\n",
    "    return movie[0]"
   ]
  },
  {
   "cell_type": "code",
   "execution_count": 49,
   "metadata": {},
   "outputs": [],
   "source": [
    "imdb_id = get_imdb(searched_movie).movieID"
   ]
  },
  {
   "cell_type": "code",
   "execution_count": 50,
   "metadata": {},
   "outputs": [],
   "source": [
    "# Variáveis para o request da API Streaming Availability\n",
    "Request_URL = 'https://streaming-availability.p.rapidapi.com/get/basic'\n",
    "headers = {\n",
    "    'X-RapidAPI-Host': 'streaming-availability.p.rapidapi.com',\n",
    "    'X-RapidAPI-Key': 'c4bc6b5210msh7c0e4e2664d48bfp159b1ajsne6be12300548'\n",
    "}\n",
    "\n",
    "params = {\n",
    "    'country': 'br',\n",
    "    'imdb_id': f'tt{imdb_id}',  # a api do Streaming Avalability exige um 'tt' na frende do ID do IMDB\n",
    "    'output_language': 'en'\n",
    "}"
   ]
  },
  {
   "cell_type": "code",
   "execution_count": 51,
   "metadata": {},
   "outputs": [],
   "source": [
    "# Define a request e o output\n",
    "r = requests.get(Request_URL, params=params, headers=headers)\n",
    "json_data = r.json()\n",
    "json_data['streamingInfo']"
   ]
  },
  {
   "cell_type": "code",
   "execution_count": 6,
   "metadata": {},
   "outputs": [],
   "source": [
    "#outra abordagem\n",
    "r = requests.get(Request_URL, params=params, headers=headers)\n",
    "json_data = r.json()\n",
    "with open('movie_data.json', 'w') as f:\n",
    "    json.dump(json_data, f)"
   ]
  },
  {
   "cell_type": "code",
   "execution_count": 9,
   "metadata": {},
   "outputs": [],
   "source": [
    "# salva o output do Streaming Availability (também evitando ter muitos pedidos)\n",
    "with open('movie_data.json', 'w') as f:\n",
    "    json.dump(json_data, f)"
   ]
  },
  {
   "cell_type": "code",
   "execution_count": 10,
   "metadata": {},
   "outputs": [
    {
     "data": {
      "text/html": [
       "<div>\n",
       "<style scoped>\n",
       "    .dataframe tbody tr th:only-of-type {\n",
       "        vertical-align: middle;\n",
       "    }\n",
       "\n",
       "    .dataframe tbody tr th {\n",
       "        vertical-align: top;\n",
       "    }\n",
       "\n",
       "    .dataframe thead th {\n",
       "        text-align: right;\n",
       "    }\n",
       "</style>\n",
       "<table border=\"1\" class=\"dataframe\">\n",
       "  <thead>\n",
       "    <tr style=\"text-align: right;\">\n",
       "      <th></th>\n",
       "      <th>0</th>\n",
       "    </tr>\n",
       "  </thead>\n",
       "  <tbody>\n",
       "    <tr>\n",
       "      <th>imdbID</th>\n",
       "      <td>tt0092099</td>\n",
       "    </tr>\n",
       "    <tr>\n",
       "      <th>tmdbID</th>\n",
       "      <td>744</td>\n",
       "    </tr>\n",
       "    <tr>\n",
       "      <th>imdbRating</th>\n",
       "      <td>69</td>\n",
       "    </tr>\n",
       "    <tr>\n",
       "      <th>imdbVoteCount</th>\n",
       "      <td>320312</td>\n",
       "    </tr>\n",
       "    <tr>\n",
       "      <th>tmdbRating</th>\n",
       "      <td>70</td>\n",
       "    </tr>\n",
       "    <tr>\n",
       "      <th>backdropPath</th>\n",
       "      <td>/jILeJ60zPpIjjJHGSmIeY4eO30t.jpg</td>\n",
       "    </tr>\n",
       "    <tr>\n",
       "      <th>backdropURLs</th>\n",
       "      <td>{'1280': 'https://image.tmdb.org/t/p/w1280/jIL...</td>\n",
       "    </tr>\n",
       "    <tr>\n",
       "      <th>originalTitle</th>\n",
       "      <td>Top Gun</td>\n",
       "    </tr>\n",
       "    <tr>\n",
       "      <th>genres</th>\n",
       "      <td>[28, 18]</td>\n",
       "    </tr>\n",
       "    <tr>\n",
       "      <th>countries</th>\n",
       "      <td>[US]</td>\n",
       "    </tr>\n",
       "    <tr>\n",
       "      <th>year</th>\n",
       "      <td>1986</td>\n",
       "    </tr>\n",
       "    <tr>\n",
       "      <th>runtime</th>\n",
       "      <td>110</td>\n",
       "    </tr>\n",
       "    <tr>\n",
       "      <th>cast</th>\n",
       "      <td>[Tom Cruise, Kelly McGillis, Val Kilmer, Antho...</td>\n",
       "    </tr>\n",
       "    <tr>\n",
       "      <th>significants</th>\n",
       "      <td>[Tony Scott]</td>\n",
       "    </tr>\n",
       "    <tr>\n",
       "      <th>title</th>\n",
       "      <td>Top Gun</td>\n",
       "    </tr>\n",
       "    <tr>\n",
       "      <th>overview</th>\n",
       "      <td>A heart-pounding combination of action, music ...</td>\n",
       "    </tr>\n",
       "    <tr>\n",
       "      <th>tagline</th>\n",
       "      <td>Up there with the best of the best.</td>\n",
       "    </tr>\n",
       "    <tr>\n",
       "      <th>video</th>\n",
       "      <td>xa_z57UatDY</td>\n",
       "    </tr>\n",
       "    <tr>\n",
       "      <th>posterPath</th>\n",
       "      <td>/xUuHj3CgmZQ9P2cMaqQs4J0d4Zc.jpg</td>\n",
       "    </tr>\n",
       "    <tr>\n",
       "      <th>posterURLs</th>\n",
       "      <td>{'154': 'https://image.tmdb.org/t/p/w154/xUuHj...</td>\n",
       "    </tr>\n",
       "    <tr>\n",
       "      <th>age</th>\n",
       "      <td>8</td>\n",
       "    </tr>\n",
       "    <tr>\n",
       "      <th>streamingInfo</th>\n",
       "      <td>{'netflix': {'br': {'link': 'https://www.netfl...</td>\n",
       "    </tr>\n",
       "    <tr>\n",
       "      <th>originalLanguage</th>\n",
       "      <td>en</td>\n",
       "    </tr>\n",
       "  </tbody>\n",
       "</table>\n",
       "</div>"
      ],
      "text/plain": [
       "                                                                  0\n",
       "imdbID                                                    tt0092099\n",
       "tmdbID                                                          744\n",
       "imdbRating                                                       69\n",
       "imdbVoteCount                                                320312\n",
       "tmdbRating                                                       70\n",
       "backdropPath                       /jILeJ60zPpIjjJHGSmIeY4eO30t.jpg\n",
       "backdropURLs      {'1280': 'https://image.tmdb.org/t/p/w1280/jIL...\n",
       "originalTitle                                               Top Gun\n",
       "genres                                                     [28, 18]\n",
       "countries                                                      [US]\n",
       "year                                                           1986\n",
       "runtime                                                         110\n",
       "cast              [Tom Cruise, Kelly McGillis, Val Kilmer, Antho...\n",
       "significants                                           [Tony Scott]\n",
       "title                                                       Top Gun\n",
       "overview          A heart-pounding combination of action, music ...\n",
       "tagline                         Up there with the best of the best.\n",
       "video                                                   xa_z57UatDY\n",
       "posterPath                         /xUuHj3CgmZQ9P2cMaqQs4J0d4Zc.jpg\n",
       "posterURLs        {'154': 'https://image.tmdb.org/t/p/w154/xUuHj...\n",
       "age                                                               8\n",
       "streamingInfo     {'netflix': {'br': {'link': 'https://www.netfl...\n",
       "originalLanguage                                                 en"
      ]
     },
     "execution_count": 10,
     "metadata": {},
     "output_type": "execute_result"
    }
   ],
   "source": [
    "movie = pd.read_json('movie_data.json', orient='index')\n",
    "movie"
   ]
  },
  {
   "cell_type": "code",
   "execution_count": 11,
   "metadata": {},
   "outputs": [
    {
     "data": {
      "text/plain": [
       "{'netflix': {'br': {'link': 'https://www.netflix.com/title/1056189/',\n",
       "   'added': 1643948371,\n",
       "   'leaving': 0}},\n",
       " 'prime': {'br': {'link': 'https://www.primevideo.com/detail/0P0U69VCY3DGZRINVE1HB37LJ7/',\n",
       "   'added': 1643990244,\n",
       "   'leaving': 0}}}"
      ]
     },
     "execution_count": 11,
     "metadata": {},
     "output_type": "execute_result"
    }
   ],
   "source": [
    "f = open('movie_data.json')\n",
    " \n",
    "# returns JSON object as\n",
    "# a dictionary\n",
    "data = json.load(f)\n",
    "data['streamingInfo']"
   ]
  },
  {
   "cell_type": "code",
   "execution_count": 54,
   "metadata": {},
   "outputs": [
    {
     "data": {
      "text/plain": [
       "'https://www.netflix.com/title/1056189/'"
      ]
     },
     "execution_count": 54,
     "metadata": {},
     "output_type": "execute_result"
    }
   ],
   "source": [
    "f = open('movie_data.json')\n",
    " \n",
    "# returns JSON object as\n",
    "# a dictionary\n",
    "data = json.load(f)\n",
    "data['streamingInfo']['netflix']['br']['link']\n",
    "# Iterating through the json\n",
    "# list\n",
    "# for i in data['emp_details']:\n",
    "#     print(i)"
   ]
  },
  {
   "cell_type": "code",
   "execution_count": 32,
   "metadata": {},
   "outputs": [
    {
     "data": {
      "text/plain": [
       "<tpb.tpb.Search at 0x1436d6ef190>"
      ]
     },
     "execution_count": 32,
     "metadata": {},
     "output_type": "execute_result"
    }
   ],
   "source": [
    "from tpb import TPB\n",
    "from tpb import CATEGORIES, ORDERS\n",
    "\n",
    "t = TPB('https://thepiratebay.org') # create a TPB object with default domain\n",
    "\n",
    "# search for 'public domain' in 'movies' category\n",
    "search = t.search('matrix', category=CATEGORIES.VIDEO.MOVIES)\n",
    "\n",
    "# return listings from page 2 of this search\n",
    "search.page(1)"
   ]
  },
  {
   "cell_type": "markdown",
   "metadata": {},
   "source": [
    "## Actual code"
   ]
  },
  {
   "cell_type": "code",
   "execution_count": 3,
   "metadata": {},
   "outputs": [],
   "source": [
    "#libraries\n",
    "import time\n",
    "import numpy as np\n",
    "import pandas as pd\n",
    "\n",
    "import imdb\n",
    "import requests\n",
    "import json\n",
    "\n",
    "# for the images\n",
    "import sys\n",
    "from colorama import init\n",
    "init(strip=not sys.stdout.isatty()) # strip colors if stdout is redirected\n",
    "from termcolor import cprint \n",
    "from pyfiglet import figlet_format"
   ]
  },
  {
   "cell_type": "code",
   "execution_count": 5,
   "metadata": {},
   "outputs": [],
   "source": [
    "#global variables\n",
    "\n",
    "RAPIDAPI_HOST = 'streaming-availability.p.rapidapi.com'\n",
    "RAPIDAPI_KEY = 'c4bc6b5210msh7c0e4e2664d48bfp159b1ajsne6be12300548'\n",
    "REQUEST_URL = 'https://streaming-availability.p.rapidapi.com/get/basic'\n",
    "country = 'br'\n",
    "\n",
    "#ASCII art\n",
    "\n",
    "fireworks = \"\"\"\n",
    "                                       .''.       \n",
    "       .''.      .        *''*    :_\\/_:     . \n",
    "      :_\\/_:   _\\(/_  .:.*_\\/_*   : /\\ :  .'.:.'.\n",
    "  .''.: /\\ :   ./)\\   ':'* /\\ * :  '..'.  -=:o:=-\n",
    " :_\\/_:'.:::.    ' *''*    * '.\\'/.' _\\(/_'.':'.'\n",
    " : /\\ : :::::     *_\\/_*     -= o =-  /)\\    '  *\n",
    "  '..'  ':::'     * /\\ *     .'/.\\'.   '\n",
    "      *            *..*         :\n",
    "    \"\"\"\n",
    "\n",
    "fork_knife = \"\"\"\n",
    "           _\n",
    "      / )\n",
    "|||| / /\n",
    "||||/ /\n",
    "\\__(_/\n",
    " ||//\n",
    " ||/\n",
    " ||\n",
    "(||      \n",
    " \"\"\n",
    "    \"\"\" \n",
    "\n",
    "pirate_flag = \"\"\"\n",
    "    ___\n",
    "    \\_/\n",
    "     |._\n",
    "     |'.\"-._.-\"\"--.-\"-.__.-'/\n",
    "     |  \\       .-.        (\n",
    "     |   |     (@.@)        )\n",
    "     |   |   '=.|m|.='     /\n",
    "     |  /    .='`\"``=.    /\n",
    "     |.'                 (\n",
    "     |.-\"-.__.-\"\"-.__.-\"-.)\n",
    "     |\n",
    "     |\n",
    "     |\n",
    "\"\"\"\n",
    "\n",
    "# pirate_ship = \"\"\"\"\"\"\"\"\"\"\"\"\"\"\"\"\"\"\"\"\"\"\"\"\"\"\"\"\"\"\"\"\"\"\"\"\"\"\"\"\"\"\"\"\"\"\"\"\"\"\"\"\"\"\"\"\"\"\"\"\"\"\"\"\"\"\"\"\"\"\"\"\"\"\"\"\"\"\"\"\"\"\"\"\n",
    "#                                   .                   .\n",
    "#                               _..-''\"\"\"\\          _.--'\"\"\"\\\n",
    "#                               |         L         |        \\\n",
    "#                   _           / _.-.---.\\.        / .-.----.\\\n",
    "#                 _/-|---     _/<\"---'\"\"\"\"\"\\\\`.    /-'--''\"\"\"\"\"\\\n",
    "#                |       \\     |            L`.`-. |            L\n",
    "#                /_.-.---.L    |            \\  \\  `|            J`.\n",
    "#              _/--'\"\"\"\"  \\    F            \\L  \\  |             L\n",
    "#                L      `. L  J  _.---.-\"\"\"-.\\`. L_/ _.--|\"\"\"\"\"--.\\ `.\n",
    "#                |        \\+. /-\"__.--'\"\"\"\"   \\ `./'\"---'\"\"\"\"\"\"   \\`. `.\n",
    "#                F   _____ \\ `F\"        `.     \\  \\                L `.\n",
    "#               /.-'\"_|---'\"\\ |           `    JL |                 L  `.`.\n",
    "#              <-'\"\"         \\|    _.-.------._ A J    _.-.-----`.--|   ``.`.\n",
    "#               L         `. |/.-'\"_.-`---'\"\"\\.\"| /-'\"---'\"\"\"\"\"   \\`.\\.  \\ `.`.\n",
    "#               |  _.------\\.<'\"\"\"            L\\ L\\                `.`\\`. \\  `.\n",
    "#          _.-'//'\"--'\"\"\"   L\\|       ________\\ `.F     ___.-------._L \\ `-\\   \\`.\n",
    "#         /___| F             F _.--'\"_|-------L  /_.-'\"_.-|-'\"\"\"\"\"\"\"\\  L   L   `.`.\n",
    "#             | F  _.-'|\"\"\"\"\"/'\"-'\"\"\"          J <'\"\"\"                L J   |     `.`.\n",
    "#             |/-'-''/|\"\"\\ )-|\\                 F \\                   |  L .'\"\"\"`\\\"\"-\\\\_\n",
    "#              F`-'-'-(`-')  | \\                F  \\                  |___`\"\"\"`.\"\"`.-'\"\n",
    "# ------------/        `-'---|  F               L   L             __     |\"\"\"\"\"`-'\"__________\n",
    "#           .'_         |    |__L          __  J__  |    _.--'\"\"\"\"   `\".----'\".'\n",
    "#          '\"\"\"\"\"\"\"\"\"\"\"\"|--._+--F _.-'\"\"||\"   \"\"\"___/.-'\"   ||-'\"/\"\"\"\"\" \\_. .'\n",
    "#          J------------(___\\__/'_____.--------'-------'\"\"\"\"\"\"\"\"           /\n",
    "#          `-.                                        _.__.__.__.____     J_.-._\n",
    "#     .'`-._ (-`--`---.'--._`---._.-'`-._.-'_.-'``-._'               `-''-'\n",
    "\n",
    "# \"\"\"\"\"\"\"\"\"\"\"\"\"\"\"\"\"\"\"\"\"\"\"\"\"\"\"\"\"\"\"\"\"\"\"\"\"\"\"\"\"\"\"\"\"\"\"\"\"\"\"\"\"\"\"\"\"\"\"\"\"\"\"\"\"\"\"\"\"\"\"\"\"\"\"\"\"\"\"\"\"\"\"\"\n",
    "\n"
   ]
  },
  {
   "cell_type": "code",
   "execution_count": 6,
   "metadata": {},
   "outputs": [],
   "source": [
    "def get_imdb(searched_movie):\n",
    "    ia = imdb.IMDb()\n",
    "    movie = ia.search_movie(searched_movie)\n",
    "    return movie"
   ]
  },
  {
   "cell_type": "code",
   "execution_count": 7,
   "metadata": {},
   "outputs": [],
   "source": [
    "def __init__():\n",
    "    cprint(figlet_format('Movie', font='broadway'), attrs=['bold'])\n",
    "    cprint(figlet_format('Night', font='broadway'), attrs=['bold'])\n",
    "    while True:\n",
    "        for i in range(3):\n",
    "            print('.')\n",
    "            time.sleep(1)\n",
    "        print(\"What do you want to do?\")\n",
    "        print(\"1 -> Roll a Movie!!\")\n",
    "        print(\"2 -> Roll FOOOD!!\")\n",
    "        print(\"3 -> Add movie\")\n",
    "        print(\"4 -> Add food\")\n",
    "        print('5 -> Exit')\n",
    "        a = input()\n",
    "        if a == '1':\n",
    "            roll_movie()\n",
    "        elif a == '2':\n",
    "            roll_food()\n",
    "        elif a == '3':\n",
    "            add_movie()\n",
    "        elif a == '4':\n",
    "            print('add_food()')\n",
    "        elif a == '5':\n",
    "            print('Goodbye!')\n",
    "            time.sleep(3)\n",
    "            break\n",
    "        else:\n",
    "            print('Sorry, I did not ger it :(')"
   ]
  },
  {
   "cell_type": "code",
   "execution_count": 54,
   "metadata": {},
   "outputs": [],
   "source": [
    "def roll_movie():\n",
    "    movie_list = pd.read_csv('movie_list.csv')\n",
    "    lucky_movie = movie_list.iloc[np.random.randint(0, movie_list.shape[0]), :]\n",
    "    \n",
    "    #rolling movie\n",
    "    print('The Lucky Movie iiiiissss:')\n",
    "    for i in range(3):\n",
    "        print('.')\n",
    "        time.sleep(1)\n",
    "        \n",
    "\n",
    "    print(fireworks)\n",
    "    print(lucky_movie['Title'])\n",
    "\n",
    "\n",
    "    # returning the availability\n",
    "\n",
    "    #----\n",
    "    def movie_availability(imdb_id):\n",
    "        headers = {\n",
    "            'X-RapidAPI-Host': RAPIDAPI_HOST,\n",
    "            'X-RapidAPI-Key': RAPIDAPI_KEY\n",
    "        }\n",
    "        params = {\n",
    "            'country': country,\n",
    "            'imdb_id': f'tt{imdb_id}',\n",
    "            'output_language': 'en'\n",
    "        }   \n",
    "\n",
    "        r = requests.get(REQUEST_URL, params=params, headers=headers)\n",
    "        \n",
    "        movie = r.json()\n",
    "        # movie = json.load(f)\n",
    "        return movie['streamingInfo']\n",
    "    #----\n",
    "\n",
    "    movie_availability = movie_availability(lucky_movie['movieID'])\n",
    "\n",
    "    try:\n",
    "        netflix_link = movie_availability['netflix']['br']['link']\n",
    "        netflix_status = True\n",
    "    except:\n",
    "        netflix_status = False\n",
    "    try:\n",
    "        prime_link = movie_availability['prime']['br']['link']\n",
    "        prime_status = True\n",
    "    except:\n",
    "        prime_status = False\n",
    "        \n",
    "        \n",
    "    if (netflix_status and prime_status) == False:\n",
    "        print('Raise the sails and keep your gun close...')\n",
    "        print(\"You're going to The Pirate Bay!\" )\n",
    "        time.sleep(1)\n",
    "        print(pirate_ship)\n",
    "        time.sleep(1)\n",
    "\n",
    "    elif netflix_status == True:\n",
    "        print(f'Netflix link: {netflix_link}')\n",
    "    else:\n",
    "        print(f'Prime link: {prime_link}')\n"
   ]
  },
  {
   "cell_type": "code",
   "execution_count": 39,
   "metadata": {},
   "outputs": [
    {
     "data": {
      "text/plain": [
       "nan"
      ]
     },
     "execution_count": 39,
     "metadata": {},
     "output_type": "execute_result"
    }
   ],
   "source": [
    "movie_list = pd.read_csv('movie_list.csv')\n",
    "lucky_movie = movie_list.iloc[np.random.randint(0, movie_list.shape[0]), :]\n",
    "lucky_movie['movieID']"
   ]
  },
  {
   "cell_type": "code",
   "execution_count": 55,
   "metadata": {},
   "outputs": [
    {
     "name": "stdout",
     "output_type": "stream",
     "text": [
      "The Lucky Movie iiiiissss:\n",
      ".\n",
      ".\n",
      ".\n",
      "\n",
      "                                       .''.       \n",
      "       .''.      .        *''*    :_\\/_:     . \n",
      "      :_\\/_:   _\\(/_  .:.*_\\/_*   : /\\ :  .'.:.'.\n",
      "  .''.: /\\ :   ./)\\   ':'* /\\ * :  '..'.  -=:o:=-\n",
      " :_\\/_:'.:::.    ' *''*    * '.'/.' _\\(/_'.':'.'\n",
      " : /\\ : :::::     *_\\/_*     -= o =-  /)\\    '  *\n",
      "  '..'  ':::'     * /\\ *     .'/.'.   '\n",
      "      *            *..*         :\n",
      "    \n",
      "Fright Night\n",
      "Raise the sails and keep your gun close...\n",
      "You're going to The Pirate Bay!\n"
     ]
    },
    {
     "ename": "NameError",
     "evalue": "name 'pirate_ship' is not defined",
     "output_type": "error",
     "traceback": [
      "\u001b[1;31m---------------------------------------------------------------------------\u001b[0m",
      "\u001b[1;31mNameError\u001b[0m                                 Traceback (most recent call last)",
      "\u001b[1;32m<ipython-input-55-9b6a9465f53c>\u001b[0m in \u001b[0;36m<module>\u001b[1;34m\u001b[0m\n\u001b[1;32m----> 1\u001b[1;33m \u001b[0mroll_movie\u001b[0m\u001b[1;33m(\u001b[0m\u001b[1;33m)\u001b[0m\u001b[1;33m\u001b[0m\u001b[1;33m\u001b[0m\u001b[0m\n\u001b[0m",
      "\u001b[1;32m<ipython-input-54-dd4102a7ffc2>\u001b[0m in \u001b[0;36mroll_movie\u001b[1;34m()\u001b[0m\n\u001b[0;32m     53\u001b[0m         \u001b[0mprint\u001b[0m\u001b[1;33m(\u001b[0m\u001b[1;34m\"You're going to The Pirate Bay!\"\u001b[0m \u001b[1;33m)\u001b[0m\u001b[1;33m\u001b[0m\u001b[1;33m\u001b[0m\u001b[0m\n\u001b[0;32m     54\u001b[0m         \u001b[0mtime\u001b[0m\u001b[1;33m.\u001b[0m\u001b[0msleep\u001b[0m\u001b[1;33m(\u001b[0m\u001b[1;36m1\u001b[0m\u001b[1;33m)\u001b[0m\u001b[1;33m\u001b[0m\u001b[1;33m\u001b[0m\u001b[0m\n\u001b[1;32m---> 55\u001b[1;33m         \u001b[0mprint\u001b[0m\u001b[1;33m(\u001b[0m\u001b[0mpirate_ship\u001b[0m\u001b[1;33m)\u001b[0m\u001b[1;33m\u001b[0m\u001b[1;33m\u001b[0m\u001b[0m\n\u001b[0m\u001b[0;32m     56\u001b[0m         \u001b[0mtime\u001b[0m\u001b[1;33m.\u001b[0m\u001b[0msleep\u001b[0m\u001b[1;33m(\u001b[0m\u001b[1;36m1\u001b[0m\u001b[1;33m)\u001b[0m\u001b[1;33m\u001b[0m\u001b[1;33m\u001b[0m\u001b[0m\n\u001b[0;32m     57\u001b[0m \u001b[1;33m\u001b[0m\u001b[0m\n",
      "\u001b[1;31mNameError\u001b[0m: name 'pirate_ship' is not defined"
     ]
    }
   ],
   "source": [
    "roll_movie()"
   ]
  },
  {
   "cell_type": "code",
   "execution_count": 9,
   "metadata": {},
   "outputs": [],
   "source": [
    "def roll_food():\n",
    "    food_list = pd.read_csv('food_list.csv')\n",
    "    selected_food = food_list.iloc[np.random.randint(0, food_list.shape[0])]\n",
    "    \n",
    "    print('You are gonna eaaat:')\n",
    "    for i in range(3):\n",
    "        time.sleep(1)\n",
    "        print('.')\n",
    "        \n",
    "    print(fork_knife)\n",
    "    print(selected_food['Food'])"
   ]
  },
  {
   "cell_type": "code",
   "execution_count": 10,
   "metadata": {},
   "outputs": [],
   "source": [
    "def add_movie():\n",
    "    searched_movie = input('Title: ')\n",
    "    search_results = get_imdb(searched_movie)\n",
    "    result_index = 0\n",
    "    a = '2'\n",
    "    while a == '2': \n",
    "        print('Is this the movie? ' + search_results[result_index]['title'])\n",
    "        print(\"1 -> Yep\")\n",
    "        print(\"2 -> Nop\")\n",
    "        a = input()\n",
    "        if a == 1:\n",
    "            pass\n",
    "        elif a == '2':\n",
    "            print(':(')\n",
    "            print('1 -> Input another name')\n",
    "            print('2 -> Next movie')\n",
    "            b = input()\n",
    "\n",
    "            if b == '1':\n",
    "                add_movie()\n",
    "                break\n",
    "            elif b == '2':\n",
    "                result_index += 1\n",
    "            else:\n",
    "                print('Sorry, I did not understand')\n",
    "        else:\n",
    "            pass\n",
    "                \n",
    "    # inserir proteção de loop      \n",
    "    movie_list = pd.read_csv('movie_list.csv')\n",
    "    movie_list = movie_list.append(pd.Series([search_results[result_index].movieID,\n",
    "                                              search_results[result_index]['title'],\n",
    "                                              'no path'],\n",
    "                                             index=['movieID','Title', 'Path']),\n",
    "                                   ignore_index=True)\n",
    "    movie_list.to_csv('movie_list.csv', index=False)\n",
    "    print('Done!')"
   ]
  },
  {
   "cell_type": "code",
   "execution_count": 11,
   "metadata": {},
   "outputs": [],
   "source": [
    "def add_food():\n",
    "    food = input('Food: ')\n",
    "    a = '2'\n",
    "    while a == '2': \n",
    "        print('Is this the movie? ' + search_results[result_index]['title'])\n",
    "        print(\"1 -> Yep\")\n",
    "        print(\"2 -> Nop\")\n",
    "        a = input()\n",
    "        if a == 1:\n",
    "            pass\n",
    "        elif a == '2':\n",
    "            print(':(')\n",
    "            print('1 -> Input another name')\n",
    "            print('2 -> Next movie')\n",
    "            b = input()\n",
    "\n",
    "            if b == '1':\n",
    "                add_movie()\n",
    "                break\n",
    "            elif b == '2':\n",
    "                result_index += 1\n",
    "            else:\n",
    "                print('Sorry, I did not understand')\n",
    "        else:\n",
    "            pass\n",
    "                \n",
    "                \n",
    "    food_list = pd.read_csv('movie_list.csv')\n",
    "    food_list = food_list.append(pd.Series([food_list], index=['Food']), ignore_index=True)\n",
    "    food_list.to_csv('food_list.csv', index=False)\n",
    "    print('Done!')"
   ]
  },
  {
   "cell_type": "markdown",
   "metadata": {},
   "source": [
    "## Testing"
   ]
  },
  {
   "cell_type": "code",
   "execution_count": 41,
   "metadata": {},
   "outputs": [
    {
     "name": "stdout",
     "output_type": "stream",
     "text": [
      "0099810\n",
      "0118971\n",
      "0108358\n",
      "0106582\n",
      "1438176\n",
      "0088194\n",
      "6139732\n",
      "0245429\n",
      "0058150\n",
      "0059578\n",
      "0084649\n",
      "0092099\n"
     ]
    }
   ],
   "source": [
    "movie_list = pd.read_csv('movie_list.csv')\n",
    "for movie in movie_list['Title']:\n",
    "    print(get_imdb(movie)[0].movieID)\n",
    "    "
   ]
  },
  {
   "cell_type": "code",
   "execution_count": 9,
   "metadata": {},
   "outputs": [
    {
     "name": "stdout",
     "output_type": "stream",
     "text": [
      "          .         .                                                       \n",
      "         ,8.       ,8.           ,o888888o.  `8.`888b           ,8'  8 8888 \n",
      "        ,888.     ,888.       . 8888     `88. `8.`888b         ,8'   8 8888 \n",
      "       .`8888.   .`8888.     ,8 8888       `8b `8.`888b       ,8'    8 8888 \n",
      "      ,8.`8888. ,8.`8888.    88 8888        `8b `8.`888b     ,8'     8 8888 \n",
      "     ,8'8.`8888,8^8.`8888.   88 8888         88  `8.`888b   ,8'      8 8888 \n",
      "    ,8' `8.`8888' `8.`8888.  88 8888         88   `8.`888b ,8'       8 8888 \n",
      "   ,8'   `8.`88'   `8.`8888. 88 8888        ,8P    `8.`888b8'        8 8888 \n",
      "  ,8'     `8.`'     `8.`8888.`8 8888       ,8P      `8.`888'         8 8888 \n",
      " ,8'       `8        `8.`8888.` 8888     ,88'        `8.`8'          8 8888 \n",
      ",8'         `         `8.`8888.  `8888888P'           `8.`           8 8888 \n",
      "               \n",
      "8 8888888888   \n",
      "8 8888         \n",
      "8 8888         \n",
      "8 8888         \n",
      "8 888888888888 \n",
      "8 8888         \n",
      "8 8888         \n",
      "8 8888         \n",
      "8 8888         \n",
      "8 888888888888 \n",
      "\n",
      "                                                                              \n",
      "b.             8  8 8888     ,o888888o.    8 8888        8 8888888 8888888888 \n",
      "888o.          8  8 8888    8888     `88.  8 8888        8       8 8888       \n",
      "Y88888o.       8  8 8888 ,8 8888       `8. 8 8888        8       8 8888       \n",
      ".`Y888888o.    8  8 8888 88 8888           8 8888        8       8 8888       \n",
      "8o. `Y888888o. 8  8 8888 88 8888           8 8888        8       8 8888       \n",
      "8`Y8o. `Y88888o8  8 8888 88 8888           8 8888        8       8 8888       \n",
      "8   `Y8o. `Y8888  8 8888 88 8888   8888888 8 8888888888888       8 8888       \n",
      "8      `Y8o. `Y8  8 8888 `8 8888       .8' 8 8888        8       8 8888       \n",
      "8         `Y8o.`  8 8888    8888     ,88'  8 8888        8       8 8888       \n",
      "8            `Yo  8 8888     `8888888P'    8 8888        8       8 8888       \n",
      "\n",
      ".\n",
      ".\n",
      ".\n",
      "What do you want to do?\n",
      "1 -> Roll a Movie!!\n",
      "2 -> Roll FOOOD!!\n",
      "3 -> Add movie\n",
      "4 -> Add food\n",
      "5 -> Exit\n",
      " 5\n",
      "Goodbye!\n"
     ]
    }
   ],
   "source": [
    "__init__()"
   ]
  },
  {
   "cell_type": "code",
   "execution_count": null,
   "metadata": {},
   "outputs": [],
   "source": [
    "add_movie()"
   ]
  },
  {
   "cell_type": "markdown",
   "metadata": {},
   "source": [
    "### Notes"
   ]
  },
  {
   "cell_type": "code",
   "execution_count": 5,
   "metadata": {},
   "outputs": [
    {
     "name": "stdout",
     "output_type": "stream",
     "text": [
      "    __  ___           _    \n",
      "   /  |/  /___ _   __(_)__ \n",
      "  / /|_/ / __ \\ | / / / _ \\\n",
      " / /  / / /_/ / |/ / /  __/\n",
      "/_/  /_/\\____/|___/_/\\___/ \n",
      "                           \n",
      "\n",
      "             _   ___       __    __ \n",
      "            / | / (_)___ _/ /_  / /_\n",
      "           /  |/ / / __ `/ __ \\/ __/\n",
      "          / /|  / / /_/ / / / / /_  \n",
      "         /_/ |_/_/\\__, /_/ /_/\\__/  \n",
      "                 /____/             \n",
      "\n"
     ]
    }
   ],
   "source": [
    "cprint(figlet_format('Movie', font='slant'), attrs=['bold'])\n",
    "cprint(figlet_format('    Night', font='slant'), attrs=['bold'])"
   ]
  },
  {
   "cell_type": "code",
   "execution_count": 66,
   "metadata": {},
   "outputs": [
    {
     "name": "stdout",
     "output_type": "stream",
     "text": [
      "1 - add\n",
      "2 - nothing\n",
      " 2\n",
      "did not work\n",
      "1 - add\n",
      "2 - nothing\n",
      " 1\n"
     ]
    }
   ],
   "source": [
    "a = '2'\n",
    "while a == '2':\n",
    "    print('1 - add')\n",
    "    print('2 - nothing')\n",
    "    a = input()\n",
    "    if a == '1':\n",
    "        pass\n",
    "    else:\n",
    "        print('did not work')        "
   ]
  },
  {
   "cell_type": "code",
   "execution_count": null,
   "metadata": {},
   "outputs": [],
   "source": [
    "# Nice fonts for the \"Movie Night\" intro\n",
    "\n",
    "# site:  https://manytools.org/hacker-tools/ascii-banner/\n",
    "\n",
    "# brodway\n",
    "# ANSI Shadow\n",
    "# Nancyj\n",
    "# slant"
   ]
  },
  {
   "cell_type": "code",
   "execution_count": null,
   "metadata": {},
   "outputs": [],
   "source": [
    "(          .         .                                                                      )\n",
    "(         ,8.       ,8.           ,o888888o.  `8.`888b           ,8'  8 8888 8 8888888888   )\n",
    "(        ,888.     ,888.       . 8888     `88. `8.`888b         ,8'   8 8888 8 8888         )\n",
    "       .`8888.   .`8888.     ,8 8888       `8b `8.`888b       ,8'    8 8888 8 8888         \n",
    "      ,8.`8888. ,8.`8888.    88 8888        `8b `8.`888b     ,8'     8 8888 8 8888         \n",
    "     ,8'8.`8888,8^8.`8888.   88 8888         88  `8.`888b   ,8'      8 8888 8 888888888888 \n",
    "    ,8' `8.`8888' `8.`8888.  88 8888         88   `8.`888b ,8'       8 8888 8 8888         \n",
    "   ,8'   `8.`88'   `8.`8888. 88 8888        ,8P    `8.`888b8'        8 8888 8 8888         \n",
    "  ,8'     `8.`'     `8.`8888.`8 8888       ,8P      `8.`888'         8 8888 8 8888         \n",
    " ,8'       `8        `8.`8888.` 8888     ,88'        `8.`8'          8 8888 8 8888         \n",
    ",8'         `         `8.`8888.  `8888888P'           `8.`           8 8888 8 888888888888 \n",
    "                                                                                           \n",
    "b.             8  8 8888     ,o888888o.    8 8888        8 8888888 8888888888              \n",
    "888o.          8  8 8888    8888     `88.  8 8888        8       8 8888                    \n",
    "Y88888o.       8  8 8888 ,8 8888       `8. 8 8888        8       8 8888                    \n",
    ".`Y888888o.    8  8 8888 88 8888           8 8888        8       8 8888                    \n",
    "8o. `Y888888o. 8  8 8888 88 8888           8 8888        8       8 8888                    \n",
    "8`Y8o. `Y88888o8  8 8888 88 8888           8 8888        8       8 8888                    \n",
    "8   `Y8o. `Y8888  8 8888 88 8888   8888888 8 8888888888888       8 8888                    \n",
    "8      `Y8o. `Y8  8 8888 `8 8888       .8' 8 8888        8       8 8888                    \n",
    "8         `Y8o.`  8 8888    8888     ,88'  8 8888        8       8 8888                    \n",
    "8            `Yo  8 8888     `8888888P'    8 8888        8       8 8888   "
   ]
  },
  {
   "cell_type": "code",
   "execution_count": 10,
   "metadata": {},
   "outputs": [
    {
     "name": "stdout",
     "output_type": "stream",
     "text": [
      "C:\\Users\\jpedr\\anaconda3\\python.exe\n"
     ]
    }
   ],
   "source": [
    "import sys\n",
    "print(sys.executable)"
   ]
  },
  {
   "cell_type": "code",
   "execution_count": 220,
   "metadata": {},
   "outputs": [
    {
     "name": "stderr",
     "output_type": "stream",
     "text": [
      "ERROR: Could not find a version that satisfies the requirement termocolor (from versions: none)\n"
     ]
    },
    {
     "name": "stdout",
     "output_type": "stream",
     "text": [
      "Note: you may need to restart the kernel to use updated packages."
     ]
    },
    {
     "name": "stderr",
     "output_type": "stream",
     "text": [
      "ERROR: No matching distribution found for termocolor"
     ]
    },
    {
     "name": "stdout",
     "output_type": "stream",
     "text": [
      "\n"
     ]
    },
    {
     "name": "stderr",
     "output_type": "stream",
     "text": [
      "\n"
     ]
    }
   ],
   "source": [
    "pip install termocolor"
   ]
  },
  {
   "cell_type": "code",
   "execution_count": 11,
   "metadata": {},
   "outputs": [
    {
     "name": "stdout",
     "output_type": "stream",
     "text": [
      "Package                       Version             Latest      Type\n",
      "----------------------------- ------------------- ----------- -----\n",
      "aiohttp                       3.7.3               3.8.1       wheel\n",
      "argon2-cffi                   20.1.0              21.3.0      wheel\n",
      "asn1crypto                    1.4.0               1.5.1       wheel\n",
      "astroid                       2.4.2               2.11.0      wheel\n",
      "astropy                       4.0.2               5.0.2       wheel\n",
      "async-timeout                 3.0.1               4.0.2       wheel\n",
      "attrs                         20.3.0              21.4.0      wheel\n",
      "Note: you may need to restart the kernel to use updated packages.autopep8                      1.5.4               1.6.0       wheel\n",
      "\n",
      "Babel                         2.8.1               2.9.1       wheel\n",
      "backports.functools-lru-cache 1.6.1               1.6.4       wheel\n",
      "beautifulsoup4                4.9.3               4.10.0      wheel\n",
      "bitarray                      1.6.1               2.4.0       wheel\n",
      "bleach                        3.2.1               4.1.0       wheel\n",
      "bokeh                         2.2.3               2.4.2       wheel\n",
      "Bottleneck                    1.3.2               1.3.4       wheel\n",
      "cffi                          1.14.3              1.15.0      wheel\n",
      "chardet                       3.0.4               4.0.0       wheel\n",
      "click                         7.1.2               8.0.4       wheel\n",
      "cloudpickle                   1.6.0               2.0.0       wheel\n",
      "comtypes                      1.1.7               1.1.11      wheel\n",
      "contextlib2                   0.6.0.post1         21.6.0      wheel\n",
      "cryptography                  3.1.1               36.0.2      wheel\n",
      "cycler                        0.10.0              0.11.0      wheel\n",
      "Cython                        0.29.21             0.29.28     wheel\n",
      "cytoolz                       0.11.0              0.11.2      sdist\n",
      "dask                          2.30.0              2022.2.1    wheel\n",
      "decorator                     4.4.2               5.1.1       wheel\n",
      "defusedxml                    0.6.0               0.7.1       wheel\n",
      "distributed                   2.30.1              2022.2.1    wheel\n",
      "docutils                      0.16                0.18.1      wheel\n",
      "entrypoints                   0.3                 0.4         wheel\n",
      "et-xmlfile                    1.0.1               1.1.0       wheel\n",
      "filelock                      3.0.12              3.6.0       wheel\n",
      "flake8                        3.8.4               4.0.1       wheel\n",
      "Flask                         1.1.2               2.0.3       wheel\n",
      "fsspec                        0.8.3               2022.2.0    wheel\n",
      "geographiclib                 1.50                1.52        wheel\n",
      "geopy                         2.1.0               2.2.0       wheel\n",
      "gevent                        20.9.0              21.12.0     wheel\n",
      "greenlet                      0.4.17              1.1.2       wheel\n",
      "h5py                          2.10.0              3.6.0       wheel\n",
      "idna                          2.10                3.3         wheel\n",
      "imageio                       2.9.0               2.16.1      wheel\n",
      "imagesize                     1.2.0               1.3.0       wheel\n",
      "importlib-metadata            2.0.0               4.11.3      wheel\n",
      "ipykernel                     5.3.4               6.9.2       wheel\n",
      "ipython                       7.19.0              8.1.1       wheel\n",
      "ipywidgets                    7.5.1               7.7.0       wheel\n",
      "isort                         5.6.4               5.10.1      wheel\n",
      "itsdangerous                  1.1.0               2.1.1       wheel\n",
      "jedi                          0.17.1              0.18.1      wheel\n",
      "Jinja2                        2.11.2              3.0.3       wheel\n",
      "joblib                        0.17.0              1.1.0       wheel\n",
      "json5                         0.9.5               0.9.6       wheel\n",
      "jsonschema                    3.2.0               4.4.0       wheel\n",
      "jupyter-client                6.1.7               7.1.2       wheel\n",
      "jupyter-console               6.2.0               6.4.3       wheel\n",
      "jupyter-core                  4.6.3               4.9.2       wheel\n",
      "jupyterlab                    2.2.6               3.3.2       wheel\n",
      "jupyterlab-server             1.2.0               2.11.0      wheel\n",
      "keyring                       21.4.0              23.5.0      wheel\n",
      "kiwisolver                    1.3.0               1.4.0       wheel\n",
      "lazy-object-proxy             1.4.3               1.7.1       wheel\n",
      "libarchive-c                  2.9                 4.0         wheel\n",
      "llvmlite                      0.34.0              0.38.0      wheel\n",
      "locket                        0.2.0               0.2.1       wheel\n",
      "lxml                          4.6.1               4.8.0       wheel\n",
      "MarkupSafe                    1.1.1               2.1.1       wheel\n",
      "matplotlib                    3.3.2               3.5.1       wheel\n",
      "mccabe                        0.6.1               0.7.0       wheel\n",
      "mistune                       0.8.4               2.0.2       wheel\n",
      "mkl-fft                       1.2.0               1.3.1       wheel\n",
      "mkl-random                    1.1.1               1.2.2       wheel\n",
      "mkl-service                   2.3.0               2.4.0       wheel\n",
      "mock                          4.0.2               4.0.3       wheel\n",
      "more-itertools                8.6.0               8.12.0      wheel\n",
      "mpmath                        1.1.0               1.2.1       wheel\n",
      "msgpack                       1.0.0               1.0.3       wheel\n",
      "multidict                     5.1.0               6.0.2       wheel\n",
      "multitasking                  0.0.9               0.0.10      sdist\n",
      "nbclient                      0.5.1               0.5.13      wheel\n",
      "nbconvert                     6.0.7               6.4.4       wheel\n",
      "nbformat                      5.0.8               5.2.0       wheel\n",
      "nest-asyncio                  1.4.2               1.5.4       wheel\n",
      "networkx                      2.5                 2.7.1       wheel\n",
      "nltk                          3.5                 3.7         wheel\n",
      "notebook                      6.1.4               6.4.10      wheel\n",
      "numba                         0.51.2              0.55.1      wheel\n",
      "numexpr                       2.7.1               2.8.1       wheel\n",
      "numpy                         1.19.2              1.22.3      wheel\n",
      "numpydoc                      1.1.0               1.2         wheel\n",
      "openpyxl                      3.0.5               3.0.9       wheel\n",
      "packaging                     20.4                21.3        wheel\n",
      "pandas                        1.1.3               1.4.1       wheel\n",
      "pandas-datareader             0.9.0               0.10.0      wheel\n",
      "pandocfilters                 1.4.3               1.5.0       wheel\n",
      "paramiko                      2.7.2               2.10.2      wheel\n",
      "parso                         0.7.0               0.8.3       wheel\n",
      "partd                         1.1.0               1.2.0       wheel\n",
      "path                          15.0.0              16.4.0      wheel\n",
      "pathlib2                      2.3.5               2.3.7.post1 wheel\n",
      "patsy                         0.5.1               0.5.2       wheel\n",
      "Pillow                        8.0.1               9.0.1       wheel\n",
      "pip                           20.2.4              22.0.4      wheel\n",
      "pkginfo                       1.6.1               1.8.2       wheel\n",
      "pluggy                        0.13.1              1.0.0       wheel\n",
      "prometheus-client             0.8.0               0.13.1      wheel\n",
      "prompt-toolkit                3.0.8               3.0.28      wheel\n",
      "psutil                        5.7.2               5.9.0       wheel\n",
      "py                            1.9.0               1.11.0      wheel\n",
      "pycodestyle                   2.6.0               2.8.0       wheel\n",
      "pycparser                     2.20                2.21        wheel\n",
      "pycurl                        7.43.0.6            7.45.1      sdist\n",
      "pydocstyle                    5.1.1               6.1.1       wheel\n",
      "pyee                          8.2.2               9.0.4       wheel\n",
      "pyflakes                      2.2.0               2.4.0       wheel\n",
      "Pygments                      2.7.2               2.11.2      wheel\n",
      "pylint                        2.6.0               2.12.2      wheel\n",
      "PyNaCl                        1.4.0               1.5.0       wheel\n",
      "pyodbc                        4.0.0-unsupported   4.0.32      wheel\n",
      "pyOpenSSL                     19.1.0              22.0.0      wheel\n",
      "pyparsing                     2.4.7               3.0.7       wheel\n",
      "pyrsistent                    0.17.3              0.18.1      wheel\n",
      "pytest                        0.0.0               7.1.0       wheel\n",
      "python-dateutil               2.8.1               2.8.2       wheel\n",
      "python-language-server        0.35.1              0.36.2      wheel\n",
      "pytz                          2020.1              2021.3      wheel\n",
      "PyWavelets                    1.1.1               1.3.0       wheel\n",
      "pywin32                       227                 303         wheel\n",
      "pywinpty                      0.5.7               2.0.5       wheel\n",
      "PyYAML                        5.3.1               6.0         wheel\n",
      "pyzmq                         19.0.2              22.3.0      wheel\n",
      "QDarkStyle                    2.8.1               3.0.3       wheel\n",
      "QtAwesome                     1.0.1               1.1.1       wheel\n",
      "qtconsole                     4.7.7               5.2.2       wheel\n",
      "QtPy                          1.9.0               2.0.1       wheel\n",
      "Quandl                        3.6.0               3.7.0       wheel\n",
      "regex                         2020.10.15          2022.3.15   wheel\n",
      "requests                      2.24.0              2.27.1      wheel\n",
      "rope                          0.18.0              0.23.0      wheel\n",
      "Rtree                         0.9.4               0.9.7       wheel\n",
      "ruamel-yaml                   0.15.87             0.17.21     wheel\n",
      "scikit-image                  0.17.2              0.19.2      wheel\n",
      "scikit-learn                  0.23.2              1.0.2       wheel\n",
      "scipy                         1.5.2               1.8.0       wheel\n",
      "seaborn                       0.11.0              0.11.2      wheel\n",
      "Send2Trash                    1.5.0               1.8.0       wheel\n",
      "setuptools                    50.3.1.post20201107 60.9.3      wheel\n",
      "singledispatch                3.4.0.3             3.7.0       wheel\n",
      "sip                           4.19.13             6.5.1       wheel\n",
      "six                           1.15.0              1.16.0      wheel\n",
      "snowballstemmer               2.0.0               2.2.0       wheel\n",
      "sortedcollections             1.2.1               2.1.0       wheel\n",
      "sortedcontainers              2.2.2               2.4.0       wheel\n",
      "soupsieve                     2.0.1               2.3.1       wheel\n",
      "Sphinx                        3.2.1               4.4.0       wheel\n",
      "sphinxcontrib-htmlhelp        1.0.3               2.0.0       wheel\n",
      "sphinxcontrib-serializinghtml 1.1.4               1.1.5       wheel\n",
      "spyder                        4.1.5               5.2.2       wheel\n",
      "spyder-kernels                1.9.4               2.2.1       wheel\n",
      "SQLAlchemy                    1.3.20              1.4.32      wheel\n",
      "statsmodels                   0.12.0              0.13.2      wheel\n",
      "sympy                         1.6.2               1.10        wheel\n",
      "tables                        3.6.1               3.7.0       wheel\n",
      "terminado                     0.9.1               0.13.3      wheel\n",
      "testpath                      0.4.4               0.6.0       wheel\n",
      "threadpoolctl                 2.1.0               3.1.0       wheel\n",
      "tifffile                      2020.10.1           2022.2.9    wheel\n",
      "toml                          0.10.1              0.10.2      wheel\n",
      "toolz                         0.11.1              0.11.2      wheel\n",
      "tornado                       6.0.4               6.1         wheel\n",
      "tqdm                          4.50.2              4.63.0      wheel\n",
      "traitlets                     5.0.5               5.1.1       wheel\n",
      "typing-extensions             3.7.4.3             4.1.1       wheel\n",
      "ujson                         4.0.1               5.1.0       wheel\n",
      "urllib3                       1.25.11             1.26.9      wheel\n",
      "watchdog                      0.10.3              2.1.6       wheel\n",
      "websockets                    10.1                10.2        wheel\n",
      "Werkzeug                      1.0.1               2.0.3       wheel\n",
      "wheel                         0.35.1              0.37.1      wheel\n",
      "widgetsnbextension            3.5.1               3.6.0       wheel\n",
      "wrapt                         1.11.2              1.14.0      wheel\n",
      "xlrd                          1.2.0               2.0.1       wheel\n",
      "XlsxWriter                    1.3.7               3.0.3       wheel\n",
      "xlwings                       0.20.8              0.27.2      wheel\n",
      "yapf                          0.30.0              0.32.0      wheel\n",
      "yarl                          1.6.3               1.7.2       wheel\n",
      "yfinance                      0.1.64              0.1.70      wheel\n",
      "zict                          2.0.0               2.1.0       wheel\n",
      "zipp                          3.4.0               3.7.0       wheel\n",
      "zope.interface                5.1.2               5.4.0       wheel\n"
     ]
    }
   ],
   "source": [
    "pip list --outdated"
   ]
  },
  {
   "cell_type": "code",
   "execution_count": 67,
   "metadata": {},
   "outputs": [],
   "source": [
    "def roll_movie():\n",
    "    movie_list = pd.read_csv('movie_list.csv')\n",
    "    lucky_movie = movie_list.iloc[np.random.randint(0, movie_list.shape[0]), :]\n",
    "    \n",
    "    #rolling movie\n",
    "    print('The Lucky Movie iiiiissss:')\n",
    "    for i in range(3):\n",
    "        print('.')\n",
    "        time.sleep(1)\n",
    "        \n",
    "\n",
    "    print(fireworks)\n",
    "    print(lucky_movie['Title'])\n",
    "    for i in range(2):\n",
    "        print('.')\n",
    "        time.sleep(0.25)\n",
    "\n",
    "\n",
    "    # returning the availability\n",
    "    #----\n",
    "    def get_movie_availability(imdb_id):\n",
    "        headers = {\n",
    "            'X-RapidAPI-Host': RAPIDAPI_HOST,\n",
    "            'X-RapidAPI-Key': RAPIDAPI_KEY\n",
    "        }\n",
    "        params = {\n",
    "            'country': country,\n",
    "            'imdb_id': f'tt{imdb_id}',\n",
    "            'output_language': 'en'\n",
    "        }   \n",
    "\n",
    "        r = requests.get(REQUEST_URL, params=params, headers=headers)\n",
    "        try:\n",
    "            movie = r.json()\n",
    "            movie_availability = movie['streamingInfo']\n",
    "            return movie_availability\n",
    "        except:\n",
    "            return 'piracy time'\n",
    "    #----\n",
    "\n",
    "    movie_availability = get_movie_availability(lucky_movie['movieID'])\n",
    "\n",
    "    try:\n",
    "        netflix_link = movie_availability['netflix']['br']['link']\n",
    "        netflix_status = True\n",
    "    except:\n",
    "        netflix_status = False\n",
    "    try:\n",
    "        prime_link = movie_availability['prime']['br']['link']\n",
    "        prime_status = True\n",
    "    except:\n",
    "        prime_status = False\n",
    "\n",
    "            \n",
    "    if netflix_status == True:\n",
    "        print(f'Netflix link: {netflix_link}')         \n",
    "    elif prime_status == True:\n",
    "        print(f'Prime link: {prime_link}')         \n",
    "    else:\n",
    "        print('Raise the sails and keep your gun close...')\n",
    "        for i in range(1):\n",
    "            print('.')\n",
    "            time.sleep(0.25)\n",
    "        print(\"You're going to The Pirate Bay!\" )\n",
    "        for i in range(1):\n",
    "            print('.')\n",
    "            time.sleep(1)\n",
    "        print(pirate_flag)\n",
    "        time.sleep(1)"
   ]
  },
  {
   "cell_type": "code",
   "execution_count": 68,
   "metadata": {},
   "outputs": [
    {
     "name": "stdout",
     "output_type": "stream",
     "text": [
      "The Lucky Movie iiiiissss:\n",
      ".\n",
      ".\n",
      ".\n",
      "\n",
      "                                       .''.       \n",
      "       .''.      .        *''*    :_\\/_:     . \n",
      "      :_\\/_:   _\\(/_  .:.*_\\/_*   : /\\ :  .'.:.'.\n",
      "  .''.: /\\ :   ./)\\   ':'* /\\ * :  '..'.  -=:o:=-\n",
      " :_\\/_:'.:::.    ' *''*    * '.'/.' _\\(/_'.':'.'\n",
      " : /\\ : :::::     *_\\/_*     -= o =-  /)\\    '  *\n",
      "  '..'  ':::'     * /\\ *     .'/.'.   '\n",
      "      *            *..*         :\n",
      "    \n",
      "For a Few Dollars More\n",
      ".\n",
      ".\n",
      "Raise the sails and keep your gun close...\n",
      ".\n",
      "You're going to The Pirate Bay!\n",
      ".\n",
      "\n",
      "    ___\n",
      "    \\_/\n",
      "     |._\n",
      "     |'.\"-._.-\"\"--.-\"-.__.-'/\n",
      "     |  \\       .-.        (\n",
      "     |   |     (@.@)        )\n",
      "     |   |   '=.|m|.='     /\n",
      "     |  /    .='`\"``=.    /\n",
      "     |.'                 (\n",
      "     |.-\"-.__.-\"\"-.__.-\"-.)\n",
      "     |\n",
      "     |\n",
      "     |\n",
      "\n"
     ]
    }
   ],
   "source": [
    "roll_movie()"
   ]
  },
  {
   "cell_type": "code",
   "execution_count": 7,
   "metadata": {},
   "outputs": [],
   "source": [
    "from pyfiglet import fonts"
   ]
  }
 ],
 "metadata": {
  "kernelspec": {
   "display_name": "Python 3",
   "language": "python",
   "name": "python3"
  },
  "language_info": {
   "codemirror_mode": {
    "name": "ipython",
    "version": 3
   },
   "file_extension": ".py",
   "mimetype": "text/x-python",
   "name": "python",
   "nbconvert_exporter": "python",
   "pygments_lexer": "ipython3",
   "version": "3.9.10"
  }
 },
 "nbformat": 4,
 "nbformat_minor": 4
}
